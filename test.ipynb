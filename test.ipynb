{
 "cells": [
  {
   "cell_type": "code",
   "execution_count": null,
   "id": "f4316602",
   "metadata": {},
   "outputs": [],
   "source": [
    "import pandas as pd\n",
    "import numpy as np\n",
    "from collections import namedtuple\n",
    "from warnings import filterwarnings\n",
    "filterwarnings('ignore')\n",
    "import torch\n",
    "from model.deepmove import DeepmoveForecaster, DeepmoveTrainer\n",
    "Parameters = namedtuple('Parameters', [\n",
    "    'loc_size', 'loc_emb_size', 'tim_size', 'tim_emb_size', 'user_size', 'user_emb_size',\n",
    "    'hidden_size', 'attn_type', 'use_cuda', 'rnn_type', 'dropout_p'\n",
    "])\n",
    "df = pd.read_csv('./data/cityD-dataset.csv')\n",
    "\n",
    "# Split day\n",
    "SPLIT_D = 60\n",
    "\n",
    "# Number of users\n",
    "USER_NUM = 1\n",
    "\n",
    "# Predicting days\n",
    "FUTURE_DAYS = 1\n",
    "\n",
    "EPOCHS = 1\n",
    "\n",
    "# Embedding sizes\n",
    "HIDDEN_SIZE = 64\n",
    "TIM_EMB_SIZE = 16\n",
    "LOC_EMB_SIZE = 256\n",
    "USER_EMB_SIZE = 16\n",
    "\n",
    "target_df = df[df.uid.isin(df.uid.drop_duplicates()[:USER_NUM])]\n",
    "training_set = target_df[target_df.d < SPLIT_D]\n",
    "testing_set = target_df[target_df.d >= SPLIT_D]\n",
    "\n",
    "parameters = Parameters(loc_size=40100, loc_emb_size=LOC_EMB_SIZE, tim_size=48, tim_emb_size=TIM_EMB_SIZE,\n",
    "                        user_size=USER_NUM, user_emb_size=USER_EMB_SIZE, hidden_size=HIDDEN_SIZE, attn_type='general',\n",
    "                        use_cuda=torch.cuda.is_available(), rnn_type='GRU', dropout_p=0.1)\n",
    "trainer = DeepmoveTrainer(parameters)\n",
    "trainer.train(training_set, epochs=EPOCHS)\n",
    "forecaster = DeepmoveForecaster(trainer.model, parameters)\n",
    "predictions = forecaster.forecast(training_set, predicting_days=FUTURE_DAYS)"
   ]
  },
  {
   "cell_type": "code",
   "execution_count": null,
   "id": "a566727d",
   "metadata": {},
   "outputs": [],
   "source": []
  },
  {
   "cell_type": "code",
   "execution_count": null,
   "id": "b10096dc",
   "metadata": {},
   "outputs": [
    {
     "name": "stderr",
     "output_type": "stream",
     "text": [
      "2025-10-14 14:09:24 - INFO - Model initialized: GRU with attention=general\n",
      "2025-10-14 14:09:24 - INFO - Model moved to GPU\n",
      "2025-10-14 14:09:24 - INFO - Trainer initialized with Adam optimizer\n",
      "2025-10-14 14:09:24 - INFO - Starting training with 1 epochs\n",
      "2025-10-14 14:09:24 - INFO - Preprocessing training data...\n",
      "Processing users: 100%|██████████| 1/1 [00:00<00:00, 54.70it/s]\n",
      "2025-10-14 14:09:24 - INFO - Preprocessed 1 users\n",
      "Epochs:   0%|          | 0/1 [00:00<?, ?it/s]2025-10-14 14:09:24 - INFO - Epoch 1/1\n",
      "\n",
      "\u001b[A\n",
      "\u001b[A\n",
      "\u001b[A\n",
      "\u001b[A\n",
      "\u001b[A\n",
      "\u001b[A2025-10-14 14:09:31 - INFO - Epoch 1/1, Average Loss: 10.6144, Batches: 4\n",
      "Epochs: 100%|██████████| 1/1 [00:07<00:00,  7.67s/it]\n",
      "2025-10-14 14:09:31 - INFO - Training completed successfully\n",
      "2025-10-14 14:09:31 - INFO - Forecaster initialized\n",
      "2025-10-14 14:09:31 - INFO - Starting forecasting for 1 days\n",
      "2025-10-14 14:09:31 - INFO - Preprocessing data for forecasting...\n",
      "Processing users: 100%|██████████| 1/1 [00:00<00:00, 60.98it/s]\n",
      "2025-10-14 14:09:31 - INFO - Preprocessed 1 users for forecasting\n",
      "Forecasting users:   0%|          | 0/1 [00:00<?, ?it/s]2025-10-14 14:09:31 - INFO - Forecasting 48 timesteps for user 0\n",
      "2025-10-14 14:09:34 - INFO - Completed forecasting for user 0: 48 predictions\n",
      "Forecasting users: 100%|██████████| 1/1 [00:03<00:00,  3.01s/it]\n",
      "2025-10-14 14:09:34 - INFO - Forecasting completed. Total predictions: 48\n"
     ]
    }
   ],
   "source": []
  },
  {
   "cell_type": "code",
   "execution_count": null,
   "id": "4b3b79fc",
   "metadata": {},
   "outputs": [
    {
     "data": {
      "text/plain": [
       "1"
      ]
     },
     "execution_count": 11,
     "metadata": {},
     "output_type": "execute_result"
    }
   ],
   "source": []
  }
 ],
 "metadata": {
  "kernelspec": {
   "display_name": "base",
   "language": "python",
   "name": "python3"
  },
  "language_info": {
   "codemirror_mode": {
    "name": "ipython",
    "version": 3
   },
   "file_extension": ".py",
   "mimetype": "text/x-python",
   "name": "python",
   "nbconvert_exporter": "python",
   "pygments_lexer": "ipython3",
   "version": "3.11.5"
  }
 },
 "nbformat": 4,
 "nbformat_minor": 5
}
