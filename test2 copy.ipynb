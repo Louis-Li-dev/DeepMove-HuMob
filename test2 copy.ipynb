{
 "cells": [
  {
   "cell_type": "code",
   "execution_count": null,
   "id": "2667be8f",
   "metadata": {},
   "outputs": [
    {
     "name": "stderr",
     "output_type": "stream",
     "text": [
      "2025-10-16 01:12:25 - INFO - Creating TrajectoryDataset...\n",
      "Processing users: 100%|██████████| 3/3 [00:03<00:00,  1.16s/it]\n",
      "2025-10-16 01:12:29 - INFO - Created 175 training samples from 3 users\n",
      "Epoch 1/40: 100%|██████████| 3/3 [00:04<00:00,  1.60s/it, loss=10.4859]\n"
     ]
    },
    {
     "name": "stdout",
     "output_type": "stream",
     "text": [
      "Epoch 1/40, Avg Loss: 10.5535, Time: 4.80s\n"
     ]
    },
    {
     "name": "stderr",
     "output_type": "stream",
     "text": [
      "Epoch 2/40: 100%|██████████| 3/3 [00:03<00:00,  1.16s/it, loss=10.2742]\n"
     ]
    },
    {
     "name": "stdout",
     "output_type": "stream",
     "text": [
      "Epoch 2/40, Avg Loss: 10.3603, Time: 3.50s\n"
     ]
    },
    {
     "name": "stderr",
     "output_type": "stream",
     "text": [
      "Epoch 3/40: 100%|██████████| 3/3 [00:03<00:00,  1.18s/it, loss=10.1173]\n"
     ]
    },
    {
     "name": "stdout",
     "output_type": "stream",
     "text": [
      "Epoch 3/40, Avg Loss: 10.1919, Time: 3.53s\n"
     ]
    },
    {
     "name": "stderr",
     "output_type": "stream",
     "text": [
      "Epoch 4/40: 100%|██████████| 3/3 [00:03<00:00,  1.22s/it, loss=9.9295] \n"
     ]
    },
    {
     "name": "stdout",
     "output_type": "stream",
     "text": [
      "Epoch 4/40, Avg Loss: 10.0405, Time: 3.66s\n"
     ]
    },
    {
     "name": "stderr",
     "output_type": "stream",
     "text": [
      "Epoch 5/40: 100%|██████████| 3/3 [00:03<00:00,  1.17s/it, loss=9.8591]\n"
     ]
    },
    {
     "name": "stdout",
     "output_type": "stream",
     "text": [
      "Epoch 5/40, Avg Loss: 9.9018, Time: 3.50s\n"
     ]
    },
    {
     "name": "stderr",
     "output_type": "stream",
     "text": [
      "Epoch 6/40: 100%|██████████| 3/3 [00:03<00:00,  1.12s/it, loss=9.6174]\n"
     ]
    },
    {
     "name": "stdout",
     "output_type": "stream",
     "text": [
      "Epoch 6/40, Avg Loss: 9.7411, Time: 3.36s\n"
     ]
    },
    {
     "name": "stderr",
     "output_type": "stream",
     "text": [
      "Epoch 7/40: 100%|██████████| 3/3 [00:03<00:00,  1.24s/it, loss=9.4926]\n"
     ]
    },
    {
     "name": "stdout",
     "output_type": "stream",
     "text": [
      "Epoch 7/40, Avg Loss: 9.5853, Time: 3.74s\n"
     ]
    },
    {
     "name": "stderr",
     "output_type": "stream",
     "text": [
      "Epoch 8/40:  33%|███▎      | 1/3 [00:01<00:02,  1.31s/it, loss=9.5508]"
     ]
    }
   ],
   "source": [
    "import pandas as pd\n",
    "import numpy as np\n",
    "from collections import namedtuple\n",
    "from model.deepmove import DeepmoveTrainer, DeepmoveForecaster\n",
    "from warnings import filterwarnings\n",
    "import matplotlib.pyplot as plt\n",
    "\n",
    "filterwarnings('ignore')\n",
    "import torch\n",
    "Parameters = namedtuple('Parameters', [\n",
    "    'loc_size', 'loc_emb_size', 'tim_size', 'tim_emb_size', 'user_size', 'user_emb_size',\n",
    "    'hidden_size', 'attn_type', 'use_cuda', 'rnn_type', 'dropout_p'\n",
    "])\n",
    "df = pd.read_csv('./data/cityD-dataset.csv')\n",
    "\n",
    "# Split day\n",
    "SPLIT_D = 60\n",
    "# Number of users\n",
    "USER_NUM = 3\n",
    "# Predicting days\n",
    "FUTURE_DAYS = 15\n",
    "EPOCHS = 40\n",
    "\n",
    "# Embedding sizes\n",
    "HIDDEN_SIZE = 16\n",
    "TIM_EMB_SIZE = 128\n",
    "LOC_EMB_SIZE = 400\n",
    "USER_EMB_SIZE = 128\n",
    "\n",
    "target_df = df[df.uid.isin(df.uid.drop_duplicates()[:USER_NUM])]\n",
    "training_set = target_df[target_df.d < SPLIT_D]\n",
    "testing_set = target_df[target_df.d >= SPLIT_D]\n",
    "\n",
    "parameters = Parameters(loc_size=40100, loc_emb_size=LOC_EMB_SIZE, tim_size=48, tim_emb_size=TIM_EMB_SIZE,\n",
    "                        user_size=USER_NUM, user_emb_size=USER_EMB_SIZE, hidden_size=HIDDEN_SIZE, attn_type='general',\n",
    "                        use_cuda=torch.cuda.is_available(), rnn_type='GRU', dropout_p=0.1)\n",
    "trainer = DeepmoveTrainer(parameters)\n",
    "trainer.train(training_set, epochs=EPOCHS, batch_size=64)"
   ]
  },
  {
   "cell_type": "code",
   "execution_count": null,
   "id": "09d30061",
   "metadata": {},
   "outputs": [],
   "source": [
    "\n",
    "forecaster = DeepmoveForecaster(trainer.model, parameters)\n",
    "predictions = forecaster.forecast(training_set, predicting_days=FUTURE_DAYS)"
   ]
  },
  {
   "cell_type": "code",
   "execution_count": null,
   "id": "69e8397a",
   "metadata": {},
   "outputs": [],
   "source": [
    "\n",
    "uid = 2\n",
    "pred = testing_set[['uid', 'd', 't']].merge(predictions, on=['uid', 'd', 't'], how='left').dropna()\n",
    "target_pred = pred[pred['uid'] == uid].reset_index(drop=True)\n",
    "target_test = testing_set[(testing_set['uid'] == uid) & (testing_set.d.isin(target_pred.d))].reset_index(drop=True)\n",
    "\n",
    "# Function to create the time label in the format d:HH:MM\n",
    "def get_time_label(row):\n",
    "    t = row['t']\n",
    "    hh = t // 2\n",
    "    mm = 30 if t % 2 == 1 else 0\n",
    "    return f\"{int(row['d'])}:{hh:02d}:{mm:02d}\"\n",
    "\n",
    "# Apply the function to create time labels (assuming same time points for pred and test)\n",
    "target_pred['time_label'] = target_pred.apply(get_time_label, axis=1)\n",
    "target_test['time_label'] = target_test.apply(get_time_label, axis=1)\n",
    "\n",
    "# Create separate plots for x and y vs. time index\n",
    "fig, (ax1, ax2) = plt.subplots(2, 1, figsize=(12, 8), sharex=True)\n",
    "\n",
    "# Plot for x (predicted and testing/actual)\n",
    "ax1.plot(range(len(target_pred)), target_pred['x'], marker='o', linestyle='-', color='blue', label='predicted x')\n",
    "ax1.plot(range(len(target_test)), target_test['x'], marker='x', linestyle='--', color='green', label='actual x')\n",
    "ax1.set_ylabel('x')\n",
    "ax1.set_title('Predicted vs Actual x over Time')\n",
    "ax1.grid(True)\n",
    "ax1.legend()\n",
    "\n",
    "# Plot for y (predicted and testing/actual)\n",
    "ax2.plot(range(len(target_pred)), target_pred['y'], marker='o', linestyle='-', color='red', label='predicted y')\n",
    "ax2.plot(range(len(target_test)), target_test['y'], marker='x', linestyle='--', color='orange', label='actual y')\n",
    "ax2.set_ylabel('y')\n",
    "ax2.set_title('Predicted vs Actual y over Time')\n",
    "ax2.grid(True)\n",
    "ax2.legend()\n",
    "\n",
    "# Set x-axis ticks and labels using pred's time labels (assuming alignment)\n",
    "plt.xticks(range(len(target_pred)), target_pred['time_label'], rotation=45, ha='right')\n",
    "plt.xlabel('Time (d:HH:MM)')\n",
    "\n",
    "plt.tight_layout()\n",
    "plt.show()"
   ]
  }
 ],
 "metadata": {
  "kernelspec": {
   "display_name": "base",
   "language": "python",
   "name": "python3"
  },
  "language_info": {
   "codemirror_mode": {
    "name": "ipython",
    "version": 3
   },
   "file_extension": ".py",
   "mimetype": "text/x-python",
   "name": "python",
   "nbconvert_exporter": "python",
   "pygments_lexer": "ipython3",
   "version": "3.11.5"
  }
 },
 "nbformat": 4,
 "nbformat_minor": 5
}
