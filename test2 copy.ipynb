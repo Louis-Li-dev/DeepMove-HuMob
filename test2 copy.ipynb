{
 "cells": [
  {
   "cell_type": "code",
   "execution_count": 1,
   "id": "2667be8f",
   "metadata": {},
   "outputs": [
    {
     "name": "stderr",
     "output_type": "stream",
     "text": [
      "2025-10-16 01:12:25 - INFO - Creating TrajectoryDataset...\n",
      "Processing users: 100%|██████████| 3/3 [00:03<00:00,  1.16s/it]\n",
      "2025-10-16 01:12:29 - INFO - Created 175 training samples from 3 users\n",
      "Epoch 1/40: 100%|██████████| 3/3 [00:04<00:00,  1.60s/it, loss=10.4859]\n"
     ]
    },
    {
     "name": "stdout",
     "output_type": "stream",
     "text": [
      "Epoch 1/40, Avg Loss: 10.5535, Time: 4.80s\n"
     ]
    },
    {
     "name": "stderr",
     "output_type": "stream",
     "text": [
      "Epoch 2/40: 100%|██████████| 3/3 [00:03<00:00,  1.16s/it, loss=10.2742]\n"
     ]
    },
    {
     "name": "stdout",
     "output_type": "stream",
     "text": [
      "Epoch 2/40, Avg Loss: 10.3603, Time: 3.50s\n"
     ]
    },
    {
     "name": "stderr",
     "output_type": "stream",
     "text": [
      "Epoch 3/40: 100%|██████████| 3/3 [00:03<00:00,  1.18s/it, loss=10.1173]\n"
     ]
    },
    {
     "name": "stdout",
     "output_type": "stream",
     "text": [
      "Epoch 3/40, Avg Loss: 10.1919, Time: 3.53s\n"
     ]
    },
    {
     "name": "stderr",
     "output_type": "stream",
     "text": [
      "Epoch 4/40: 100%|██████████| 3/3 [00:03<00:00,  1.22s/it, loss=9.9295] \n"
     ]
    },
    {
     "name": "stdout",
     "output_type": "stream",
     "text": [
      "Epoch 4/40, Avg Loss: 10.0405, Time: 3.66s\n"
     ]
    },
    {
     "name": "stderr",
     "output_type": "stream",
     "text": [
      "Epoch 5/40: 100%|██████████| 3/3 [00:03<00:00,  1.17s/it, loss=9.8591]\n"
     ]
    },
    {
     "name": "stdout",
     "output_type": "stream",
     "text": [
      "Epoch 5/40, Avg Loss: 9.9018, Time: 3.50s\n"
     ]
    },
    {
     "name": "stderr",
     "output_type": "stream",
     "text": [
      "Epoch 6/40: 100%|██████████| 3/3 [00:03<00:00,  1.12s/it, loss=9.6174]\n"
     ]
    },
    {
     "name": "stdout",
     "output_type": "stream",
     "text": [
      "Epoch 6/40, Avg Loss: 9.7411, Time: 3.36s\n"
     ]
    },
    {
     "name": "stderr",
     "output_type": "stream",
     "text": [
      "Epoch 7/40: 100%|██████████| 3/3 [00:03<00:00,  1.24s/it, loss=9.4926]\n"
     ]
    },
    {
     "name": "stdout",
     "output_type": "stream",
     "text": [
      "Epoch 7/40, Avg Loss: 9.5853, Time: 3.74s\n"
     ]
    },
    {
     "name": "stderr",
     "output_type": "stream",
     "text": [
      "Epoch 8/40: 100%|██████████| 3/3 [00:03<00:00,  1.14s/it, loss=9.3785]\n"
     ]
    },
    {
     "name": "stdout",
     "output_type": "stream",
     "text": [
      "Epoch 8/40, Avg Loss: 9.4325, Time: 3.42s\n"
     ]
    },
    {
     "name": "stderr",
     "output_type": "stream",
     "text": [
      "Epoch 9/40: 100%|██████████| 3/3 [00:03<00:00,  1.17s/it, loss=9.1606]\n"
     ]
    },
    {
     "name": "stdout",
     "output_type": "stream",
     "text": [
      "Epoch 9/40, Avg Loss: 9.2651, Time: 3.52s\n"
     ]
    },
    {
     "name": "stderr",
     "output_type": "stream",
     "text": [
      "Epoch 10/40: 100%|██████████| 3/3 [00:03<00:00,  1.15s/it, loss=9.0534]\n"
     ]
    },
    {
     "name": "stdout",
     "output_type": "stream",
     "text": [
      "Epoch 10/40, Avg Loss: 9.0997, Time: 3.44s\n"
     ]
    },
    {
     "name": "stderr",
     "output_type": "stream",
     "text": [
      "Epoch 11/40: 100%|██████████| 3/3 [00:03<00:00,  1.16s/it, loss=8.9163]\n"
     ]
    },
    {
     "name": "stdout",
     "output_type": "stream",
     "text": [
      "Epoch 11/40, Avg Loss: 8.9377, Time: 3.47s\n"
     ]
    },
    {
     "name": "stderr",
     "output_type": "stream",
     "text": [
      "Epoch 12/40: 100%|██████████| 3/3 [00:03<00:00,  1.26s/it, loss=8.7153]\n"
     ]
    },
    {
     "name": "stdout",
     "output_type": "stream",
     "text": [
      "Epoch 12/40, Avg Loss: 8.7638, Time: 3.78s\n"
     ]
    },
    {
     "name": "stderr",
     "output_type": "stream",
     "text": [
      "Epoch 13/40: 100%|██████████| 3/3 [00:03<00:00,  1.28s/it, loss=8.6836]\n"
     ]
    },
    {
     "name": "stdout",
     "output_type": "stream",
     "text": [
      "Epoch 13/40, Avg Loss: 8.6030, Time: 3.83s\n"
     ]
    },
    {
     "name": "stderr",
     "output_type": "stream",
     "text": [
      "Epoch 14/40: 100%|██████████| 3/3 [00:04<00:00,  1.41s/it, loss=8.3723]\n"
     ]
    },
    {
     "name": "stdout",
     "output_type": "stream",
     "text": [
      "Epoch 14/40, Avg Loss: 8.4255, Time: 4.25s\n"
     ]
    },
    {
     "name": "stderr",
     "output_type": "stream",
     "text": [
      "Epoch 15/40: 100%|██████████| 3/3 [00:03<00:00,  1.18s/it, loss=8.1329]\n"
     ]
    },
    {
     "name": "stdout",
     "output_type": "stream",
     "text": [
      "Epoch 15/40, Avg Loss: 8.2542, Time: 3.54s\n"
     ]
    },
    {
     "name": "stderr",
     "output_type": "stream",
     "text": [
      "Epoch 16/40: 100%|██████████| 3/3 [00:03<00:00,  1.20s/it, loss=8.0897]\n"
     ]
    },
    {
     "name": "stdout",
     "output_type": "stream",
     "text": [
      "Epoch 16/40, Avg Loss: 8.1084, Time: 3.61s\n"
     ]
    },
    {
     "name": "stderr",
     "output_type": "stream",
     "text": [
      "Epoch 17/40: 100%|██████████| 3/3 [00:03<00:00,  1.16s/it, loss=7.8147]\n"
     ]
    },
    {
     "name": "stdout",
     "output_type": "stream",
     "text": [
      "Epoch 17/40, Avg Loss: 7.9275, Time: 3.50s\n"
     ]
    },
    {
     "name": "stderr",
     "output_type": "stream",
     "text": [
      "Epoch 18/40: 100%|██████████| 3/3 [00:03<00:00,  1.08s/it, loss=7.7149]\n"
     ]
    },
    {
     "name": "stdout",
     "output_type": "stream",
     "text": [
      "Epoch 18/40, Avg Loss: 7.7778, Time: 3.25s\n"
     ]
    },
    {
     "name": "stderr",
     "output_type": "stream",
     "text": [
      "Epoch 19/40: 100%|██████████| 3/3 [00:03<00:00,  1.06s/it, loss=7.5974]\n"
     ]
    },
    {
     "name": "stdout",
     "output_type": "stream",
     "text": [
      "Epoch 19/40, Avg Loss: 7.6233, Time: 3.18s\n"
     ]
    },
    {
     "name": "stderr",
     "output_type": "stream",
     "text": [
      "Epoch 20/40: 100%|██████████| 3/3 [00:03<00:00,  1.09s/it, loss=7.3490]\n"
     ]
    },
    {
     "name": "stdout",
     "output_type": "stream",
     "text": [
      "Epoch 20/40, Avg Loss: 7.4643, Time: 3.28s\n"
     ]
    },
    {
     "name": "stderr",
     "output_type": "stream",
     "text": [
      "Epoch 21/40: 100%|██████████| 3/3 [00:03<00:00,  1.08s/it, loss=7.1930]\n"
     ]
    },
    {
     "name": "stdout",
     "output_type": "stream",
     "text": [
      "Epoch 21/40, Avg Loss: 7.3124, Time: 3.24s\n"
     ]
    },
    {
     "name": "stderr",
     "output_type": "stream",
     "text": [
      "Epoch 22/40: 100%|██████████| 3/3 [00:03<00:00,  1.03s/it, loss=7.0777]\n"
     ]
    },
    {
     "name": "stdout",
     "output_type": "stream",
     "text": [
      "Epoch 22/40, Avg Loss: 7.1736, Time: 3.10s\n"
     ]
    },
    {
     "name": "stderr",
     "output_type": "stream",
     "text": [
      "Epoch 23/40: 100%|██████████| 3/3 [00:03<00:00,  1.09s/it, loss=6.9584]\n"
     ]
    },
    {
     "name": "stdout",
     "output_type": "stream",
     "text": [
      "Epoch 23/40, Avg Loss: 7.0369, Time: 3.28s\n"
     ]
    },
    {
     "name": "stderr",
     "output_type": "stream",
     "text": [
      "Epoch 24/40: 100%|██████████| 3/3 [00:03<00:00,  1.07s/it, loss=6.8992]\n"
     ]
    },
    {
     "name": "stdout",
     "output_type": "stream",
     "text": [
      "Epoch 24/40, Avg Loss: 6.9042, Time: 3.22s\n"
     ]
    },
    {
     "name": "stderr",
     "output_type": "stream",
     "text": [
      "Epoch 25/40: 100%|██████████| 3/3 [00:03<00:00,  1.08s/it, loss=6.6100]\n"
     ]
    },
    {
     "name": "stdout",
     "output_type": "stream",
     "text": [
      "Epoch 25/40, Avg Loss: 6.7675, Time: 3.24s\n"
     ]
    },
    {
     "name": "stderr",
     "output_type": "stream",
     "text": [
      "Epoch 26/40: 100%|██████████| 3/3 [00:03<00:00,  1.05s/it, loss=6.7013]\n"
     ]
    },
    {
     "name": "stdout",
     "output_type": "stream",
     "text": [
      "Epoch 26/40, Avg Loss: 6.6537, Time: 3.15s\n"
     ]
    },
    {
     "name": "stderr",
     "output_type": "stream",
     "text": [
      "Epoch 27/40: 100%|██████████| 3/3 [00:03<00:00,  1.10s/it, loss=6.4463]\n"
     ]
    },
    {
     "name": "stdout",
     "output_type": "stream",
     "text": [
      "Epoch 27/40, Avg Loss: 6.5262, Time: 3.30s\n"
     ]
    },
    {
     "name": "stderr",
     "output_type": "stream",
     "text": [
      "Epoch 28/40: 100%|██████████| 3/3 [00:03<00:00,  1.06s/it, loss=6.2835]\n"
     ]
    },
    {
     "name": "stdout",
     "output_type": "stream",
     "text": [
      "Epoch 28/40, Avg Loss: 6.4180, Time: 3.19s\n"
     ]
    },
    {
     "name": "stderr",
     "output_type": "stream",
     "text": [
      "Epoch 29/40: 100%|██████████| 3/3 [00:03<00:00,  1.08s/it, loss=6.2743]\n"
     ]
    },
    {
     "name": "stdout",
     "output_type": "stream",
     "text": [
      "Epoch 29/40, Avg Loss: 6.3070, Time: 3.24s\n"
     ]
    },
    {
     "name": "stderr",
     "output_type": "stream",
     "text": [
      "Epoch 30/40: 100%|██████████| 3/3 [00:03<00:00,  1.10s/it, loss=6.0478]\n"
     ]
    },
    {
     "name": "stdout",
     "output_type": "stream",
     "text": [
      "Epoch 30/40, Avg Loss: 6.1939, Time: 3.31s\n"
     ]
    },
    {
     "name": "stderr",
     "output_type": "stream",
     "text": [
      "Epoch 31/40: 100%|██████████| 3/3 [00:03<00:00,  1.06s/it, loss=5.9601]\n"
     ]
    },
    {
     "name": "stdout",
     "output_type": "stream",
     "text": [
      "Epoch 31/40, Avg Loss: 6.0838, Time: 3.20s\n"
     ]
    },
    {
     "name": "stderr",
     "output_type": "stream",
     "text": [
      "Epoch 32/40: 100%|██████████| 3/3 [00:03<00:00,  1.08s/it, loss=6.0099]\n"
     ]
    },
    {
     "name": "stdout",
     "output_type": "stream",
     "text": [
      "Epoch 32/40, Avg Loss: 6.0128, Time: 3.24s\n"
     ]
    },
    {
     "name": "stderr",
     "output_type": "stream",
     "text": [
      "Epoch 33/40: 100%|██████████| 3/3 [00:03<00:00,  1.08s/it, loss=5.8156]\n"
     ]
    },
    {
     "name": "stdout",
     "output_type": "stream",
     "text": [
      "Epoch 33/40, Avg Loss: 5.9023, Time: 3.26s\n"
     ]
    },
    {
     "name": "stderr",
     "output_type": "stream",
     "text": [
      "Epoch 34/40: 100%|██████████| 3/3 [00:03<00:00,  1.08s/it, loss=5.6916]\n"
     ]
    },
    {
     "name": "stdout",
     "output_type": "stream",
     "text": [
      "Epoch 34/40, Avg Loss: 5.8111, Time: 3.24s\n"
     ]
    },
    {
     "name": "stderr",
     "output_type": "stream",
     "text": [
      "Epoch 35/40: 100%|██████████| 3/3 [00:03<00:00,  1.06s/it, loss=5.7301]\n"
     ]
    },
    {
     "name": "stdout",
     "output_type": "stream",
     "text": [
      "Epoch 35/40, Avg Loss: 5.7432, Time: 3.20s\n"
     ]
    },
    {
     "name": "stderr",
     "output_type": "stream",
     "text": [
      "Epoch 36/40: 100%|██████████| 3/3 [00:03<00:00,  1.08s/it, loss=5.7601]\n"
     ]
    },
    {
     "name": "stdout",
     "output_type": "stream",
     "text": [
      "Epoch 36/40, Avg Loss: 5.6780, Time: 3.25s\n"
     ]
    },
    {
     "name": "stderr",
     "output_type": "stream",
     "text": [
      "Epoch 37/40: 100%|██████████| 3/3 [00:03<00:00,  1.07s/it, loss=5.4593]\n"
     ]
    },
    {
     "name": "stdout",
     "output_type": "stream",
     "text": [
      "Epoch 37/40, Avg Loss: 5.5786, Time: 3.23s\n"
     ]
    },
    {
     "name": "stderr",
     "output_type": "stream",
     "text": [
      "Epoch 38/40: 100%|██████████| 3/3 [00:03<00:00,  1.12s/it, loss=5.4186]\n"
     ]
    },
    {
     "name": "stdout",
     "output_type": "stream",
     "text": [
      "Epoch 38/40, Avg Loss: 5.5059, Time: 3.36s\n"
     ]
    },
    {
     "name": "stderr",
     "output_type": "stream",
     "text": [
      "Epoch 39/40: 100%|██████████| 3/3 [00:03<00:00,  1.06s/it, loss=5.3103]\n"
     ]
    },
    {
     "name": "stdout",
     "output_type": "stream",
     "text": [
      "Epoch 39/40, Avg Loss: 5.4313, Time: 3.19s\n"
     ]
    },
    {
     "name": "stderr",
     "output_type": "stream",
     "text": [
      "Epoch 40/40: 100%|██████████| 3/3 [00:03<00:00,  1.10s/it, loss=5.3433]"
     ]
    },
    {
     "name": "stdout",
     "output_type": "stream",
     "text": [
      "Epoch 40/40, Avg Loss: 5.3747, Time: 3.32s\n"
     ]
    },
    {
     "name": "stderr",
     "output_type": "stream",
     "text": [
      "\n"
     ]
    }
   ],
   "source": [
    "import pandas as pd\n",
    "import numpy as np\n",
    "from collections import namedtuple\n",
    "from model.deepmove import DeepmoveTrainer, DeepmoveForecaster\n",
    "from warnings import filterwarnings\n",
    "import matplotlib.pyplot as plt\n",
    "\n",
    "filterwarnings('ignore')\n",
    "import torch\n",
    "Parameters = namedtuple('Parameters', [\n",
    "    'loc_size', 'loc_emb_size', 'tim_size', 'tim_emb_size', 'user_size', 'user_emb_size',\n",
    "    'hidden_size', 'attn_type', 'use_cuda', 'rnn_type', 'dropout_p'\n",
    "])\n",
    "df = pd.read_csv('./data/cityD-dataset.csv')\n",
    "\n",
    "# Split day\n",
    "SPLIT_D = 60\n",
    "# Number of users\n",
    "USER_NUM = 3\n",
    "# Predicting days\n",
    "FUTURE_DAYS = 15\n",
    "EPOCHS = 40\n",
    "\n",
    "# Embedding sizes\n",
    "HIDDEN_SIZE = 16\n",
    "TIM_EMB_SIZE = 128\n",
    "LOC_EMB_SIZE = 400\n",
    "USER_EMB_SIZE = 128\n",
    "\n",
    "target_df = df[df.uid.isin(df.uid.drop_duplicates()[:USER_NUM])]\n",
    "training_set = target_df[target_df.d < SPLIT_D]\n",
    "testing_set = target_df[target_df.d >= SPLIT_D]\n",
    "\n",
    "parameters = Parameters(loc_size=40100, loc_emb_size=LOC_EMB_SIZE, tim_size=48, tim_emb_size=TIM_EMB_SIZE,\n",
    "                        user_size=USER_NUM, user_emb_size=USER_EMB_SIZE, hidden_size=HIDDEN_SIZE, attn_type='general',\n",
    "                        use_cuda=torch.cuda.is_available(), rnn_type='GRU', dropout_p=0.1)\n",
    "trainer = DeepmoveTrainer(parameters)\n",
    "trainer.train(training_set, epochs=EPOCHS, batch_size=64)"
   ]
  },
  {
   "cell_type": "code",
   "execution_count": null,
   "id": "09d30061",
   "metadata": {},
   "outputs": [
    {
     "name": "stderr",
     "output_type": "stream",
     "text": [
      "2025-10-16 01:14:46 - INFO - Forecaster initialized\n",
      "2025-10-16 01:14:46 - INFO - Starting forecasting for 15 days\n",
      "2025-10-16 01:14:46 - INFO - Preprocessing data for forecasting...\n",
      "Processing users:  67%|██████▋   | 2/3 [00:02<00:01,  1.25s/it]"
     ]
    }
   ],
   "source": [
    "\n",
    "forecaster = DeepmoveForecaster(trainer.model, parameters)\n",
    "predictions = forecaster.forecast(training_set, predicting_days=FUTURE_DAYS)"
   ]
  },
  {
   "cell_type": "code",
   "execution_count": null,
   "id": "69e8397a",
   "metadata": {},
   "outputs": [],
   "source": [
    "\n",
    "uid = 2\n",
    "pred = testing_set[['uid', 'd', 't']].merge(predictions, on=['uid', 'd', 't'], how='left').dropna()\n",
    "target_pred = pred[pred['uid'] == uid].reset_index(drop=True)\n",
    "target_test = testing_set[(testing_set['uid'] == uid) & (testing_set.d.isin(target_pred.d))].reset_index(drop=True)\n",
    "\n",
    "# Function to create the time label in the format d:HH:MM\n",
    "def get_time_label(row):\n",
    "    t = row['t']\n",
    "    hh = t // 2\n",
    "    mm = 30 if t % 2 == 1 else 0\n",
    "    return f\"{int(row['d'])}:{hh:02d}:{mm:02d}\"\n",
    "\n",
    "# Apply the function to create time labels (assuming same time points for pred and test)\n",
    "target_pred['time_label'] = target_pred.apply(get_time_label, axis=1)\n",
    "target_test['time_label'] = target_test.apply(get_time_label, axis=1)\n",
    "\n",
    "# Create separate plots for x and y vs. time index\n",
    "fig, (ax1, ax2) = plt.subplots(2, 1, figsize=(12, 8), sharex=True)\n",
    "\n",
    "# Plot for x (predicted and testing/actual)\n",
    "ax1.plot(range(len(target_pred)), target_pred['x'], marker='o', linestyle='-', color='blue', label='predicted x')\n",
    "ax1.plot(range(len(target_test)), target_test['x'], marker='x', linestyle='--', color='green', label='actual x')\n",
    "ax1.set_ylabel('x')\n",
    "ax1.set_title('Predicted vs Actual x over Time')\n",
    "ax1.grid(True)\n",
    "ax1.legend()\n",
    "\n",
    "# Plot for y (predicted and testing/actual)\n",
    "ax2.plot(range(len(target_pred)), target_pred['y'], marker='o', linestyle='-', color='red', label='predicted y')\n",
    "ax2.plot(range(len(target_test)), target_test['y'], marker='x', linestyle='--', color='orange', label='actual y')\n",
    "ax2.set_ylabel('y')\n",
    "ax2.set_title('Predicted vs Actual y over Time')\n",
    "ax2.grid(True)\n",
    "ax2.legend()\n",
    "\n",
    "# Set x-axis ticks and labels using pred's time labels (assuming alignment)\n",
    "plt.xticks(range(len(target_pred)), target_pred['time_label'], rotation=45, ha='right')\n",
    "plt.xlabel('Time (d:HH:MM)')\n",
    "\n",
    "plt.tight_layout()\n",
    "plt.show()"
   ]
  }
 ],
 "metadata": {
  "kernelspec": {
   "display_name": "base",
   "language": "python",
   "name": "python3"
  },
  "language_info": {
   "codemirror_mode": {
    "name": "ipython",
    "version": 3
   },
   "file_extension": ".py",
   "mimetype": "text/x-python",
   "name": "python",
   "nbconvert_exporter": "python",
   "pygments_lexer": "ipython3",
   "version": "3.11.5"
  }
 },
 "nbformat": 4,
 "nbformat_minor": 5
}
