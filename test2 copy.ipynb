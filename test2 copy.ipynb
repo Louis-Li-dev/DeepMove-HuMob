{
 "cells": [
  {
   "cell_type": "code",
   "execution_count": 1,
   "id": "2667be8f",
   "metadata": {},
   "outputs": [
    {
     "name": "stderr",
     "output_type": "stream",
     "text": [
      "2025-10-16 01:35:05 - INFO - Creating TrajectoryDataset...\n",
      "Processing users: 100%|██████████| 3/3 [00:03<00:00,  1.09s/it]\n",
      "2025-10-16 01:35:09 - INFO - Created 175 training samples from 3 users\n",
      "Epoch 1/20: 100%|██████████| 11/11 [00:02<00:00,  4.12it/s, loss=10.4987]\n"
     ]
    },
    {
     "name": "stdout",
     "output_type": "stream",
     "text": [
      "Epoch 1/20, Avg Loss: 10.5753, Time: 2.67s\n"
     ]
    },
    {
     "name": "stderr",
     "output_type": "stream",
     "text": [
      "Epoch 2/20: 100%|██████████| 11/11 [00:02<00:00,  5.09it/s, loss=10.0562]\n"
     ]
    },
    {
     "name": "stdout",
     "output_type": "stream",
     "text": [
      "Epoch 2/20, Avg Loss: 10.2704, Time: 2.16s\n"
     ]
    },
    {
     "name": "stderr",
     "output_type": "stream",
     "text": [
      "Epoch 3/20: 100%|██████████| 11/11 [00:02<00:00,  5.26it/s, loss=9.7189]\n"
     ]
    },
    {
     "name": "stdout",
     "output_type": "stream",
     "text": [
      "Epoch 3/20, Avg Loss: 9.8281, Time: 2.10s\n"
     ]
    },
    {
     "name": "stderr",
     "output_type": "stream",
     "text": [
      "Epoch 4/20: 100%|██████████| 11/11 [00:02<00:00,  5.14it/s, loss=8.5944]\n"
     ]
    },
    {
     "name": "stdout",
     "output_type": "stream",
     "text": [
      "Epoch 4/20, Avg Loss: 9.0308, Time: 2.15s\n"
     ]
    },
    {
     "name": "stderr",
     "output_type": "stream",
     "text": [
      "Epoch 5/20: 100%|██████████| 11/11 [00:02<00:00,  5.03it/s, loss=7.4457]\n"
     ]
    },
    {
     "name": "stdout",
     "output_type": "stream",
     "text": [
      "Epoch 5/20, Avg Loss: 7.9403, Time: 2.19s\n"
     ]
    },
    {
     "name": "stderr",
     "output_type": "stream",
     "text": [
      "Epoch 6/20: 100%|██████████| 11/11 [00:02<00:00,  5.10it/s, loss=6.5224]\n"
     ]
    },
    {
     "name": "stdout",
     "output_type": "stream",
     "text": [
      "Epoch 6/20, Avg Loss: 6.9036, Time: 2.16s\n"
     ]
    },
    {
     "name": "stderr",
     "output_type": "stream",
     "text": [
      "Epoch 7/20: 100%|██████████| 11/11 [00:02<00:00,  5.13it/s, loss=6.1132]\n"
     ]
    },
    {
     "name": "stdout",
     "output_type": "stream",
     "text": [
      "Epoch 7/20, Avg Loss: 6.1394, Time: 2.15s\n"
     ]
    },
    {
     "name": "stderr",
     "output_type": "stream",
     "text": [
      "Epoch 8/20: 100%|██████████| 11/11 [00:02<00:00,  5.06it/s, loss=5.1849]\n"
     ]
    },
    {
     "name": "stdout",
     "output_type": "stream",
     "text": [
      "Epoch 8/20, Avg Loss: 5.7272, Time: 2.18s\n"
     ]
    },
    {
     "name": "stderr",
     "output_type": "stream",
     "text": [
      "Epoch 9/20: 100%|██████████| 11/11 [00:02<00:00,  5.00it/s, loss=5.5537]\n"
     ]
    },
    {
     "name": "stdout",
     "output_type": "stream",
     "text": [
      "Epoch 9/20, Avg Loss: 5.5067, Time: 2.20s\n"
     ]
    },
    {
     "name": "stderr",
     "output_type": "stream",
     "text": [
      "Epoch 10/20: 100%|██████████| 11/11 [00:02<00:00,  5.09it/s, loss=5.9447]\n"
     ]
    },
    {
     "name": "stdout",
     "output_type": "stream",
     "text": [
      "Epoch 10/20, Avg Loss: 5.3682, Time: 2.17s\n"
     ]
    },
    {
     "name": "stderr",
     "output_type": "stream",
     "text": [
      "Epoch 11/20: 100%|██████████| 11/11 [00:02<00:00,  5.21it/s, loss=5.1632]\n"
     ]
    },
    {
     "name": "stdout",
     "output_type": "stream",
     "text": [
      "Epoch 11/20, Avg Loss: 5.2799, Time: 2.12s\n"
     ]
    },
    {
     "name": "stderr",
     "output_type": "stream",
     "text": [
      "Epoch 12/20: 100%|██████████| 11/11 [00:02<00:00,  5.26it/s, loss=5.1194]\n"
     ]
    },
    {
     "name": "stdout",
     "output_type": "stream",
     "text": [
      "Epoch 12/20, Avg Loss: 5.2228, Time: 2.10s\n"
     ]
    },
    {
     "name": "stderr",
     "output_type": "stream",
     "text": [
      "Epoch 13/20: 100%|██████████| 11/11 [00:02<00:00,  5.13it/s, loss=5.2474]\n"
     ]
    },
    {
     "name": "stdout",
     "output_type": "stream",
     "text": [
      "Epoch 13/20, Avg Loss: 5.1795, Time: 2.15s\n"
     ]
    },
    {
     "name": "stderr",
     "output_type": "stream",
     "text": [
      "Epoch 14/20: 100%|██████████| 11/11 [00:02<00:00,  5.13it/s, loss=5.4872]\n"
     ]
    },
    {
     "name": "stdout",
     "output_type": "stream",
     "text": [
      "Epoch 14/20, Avg Loss: 5.1133, Time: 2.15s\n"
     ]
    },
    {
     "name": "stderr",
     "output_type": "stream",
     "text": [
      "Epoch 15/20: 100%|██████████| 11/11 [00:02<00:00,  5.09it/s, loss=5.0965]\n"
     ]
    },
    {
     "name": "stdout",
     "output_type": "stream",
     "text": [
      "Epoch 15/20, Avg Loss: 5.0863, Time: 2.16s\n"
     ]
    },
    {
     "name": "stderr",
     "output_type": "stream",
     "text": [
      "Epoch 16/20: 100%|██████████| 11/11 [00:02<00:00,  5.34it/s, loss=5.0084]\n"
     ]
    },
    {
     "name": "stdout",
     "output_type": "stream",
     "text": [
      "Epoch 16/20, Avg Loss: 5.0557, Time: 2.07s\n"
     ]
    },
    {
     "name": "stderr",
     "output_type": "stream",
     "text": [
      "Epoch 17/20: 100%|██████████| 11/11 [00:02<00:00,  5.04it/s, loss=4.6862]\n"
     ]
    },
    {
     "name": "stdout",
     "output_type": "stream",
     "text": [
      "Epoch 17/20, Avg Loss: 5.0161, Time: 2.19s\n"
     ]
    },
    {
     "name": "stderr",
     "output_type": "stream",
     "text": [
      "Epoch 18/20: 100%|██████████| 11/11 [00:02<00:00,  5.16it/s, loss=4.6499]\n"
     ]
    },
    {
     "name": "stdout",
     "output_type": "stream",
     "text": [
      "Epoch 18/20, Avg Loss: 4.9736, Time: 2.14s\n"
     ]
    },
    {
     "name": "stderr",
     "output_type": "stream",
     "text": [
      "Epoch 19/20: 100%|██████████| 11/11 [00:02<00:00,  5.16it/s, loss=5.2850]\n"
     ]
    },
    {
     "name": "stdout",
     "output_type": "stream",
     "text": [
      "Epoch 19/20, Avg Loss: 4.9452, Time: 2.13s\n"
     ]
    },
    {
     "name": "stderr",
     "output_type": "stream",
     "text": [
      "Epoch 20/20: 100%|██████████| 11/11 [00:02<00:00,  4.94it/s, loss=4.9931]"
     ]
    },
    {
     "name": "stdout",
     "output_type": "stream",
     "text": [
      "Epoch 20/20, Avg Loss: 4.9303, Time: 2.23s\n"
     ]
    },
    {
     "name": "stderr",
     "output_type": "stream",
     "text": [
      "\n"
     ]
    }
   ],
   "source": [
    "import pandas as pd\n",
    "import numpy as np\n",
    "from collections import namedtuple\n",
    "from model.deepmove import DeepmoveTrainer, DeepmoveForecaster\n",
    "from warnings import filterwarnings\n",
    "import matplotlib.pyplot as plt\n",
    "\n",
    "filterwarnings('ignore')\n",
    "import torch\n",
    "Parameters = namedtuple('Parameters', [\n",
    "    'loc_size', 'loc_emb_size', 'tim_size', 'tim_emb_size', 'user_size', 'user_emb_size',\n",
    "    'hidden_size', 'attn_type', 'use_cuda', 'rnn_type', 'dropout_p'\n",
    "])\n",
    "df = pd.read_csv('./data/cityD-dataset.csv')\n",
    "\n",
    "# Split day\n",
    "SPLIT_D = 60\n",
    "# Number of users\n",
    "USER_NUM = 3\n",
    "# Predicting days\n",
    "FUTURE_DAYS = 15\n",
    "EPOCHS = 20\n",
    "\n",
    "# Embedding sizes\n",
    "HIDDEN_SIZE = 32\n",
    "TIM_EMB_SIZE = 32\n",
    "LOC_EMB_SIZE = 64\n",
    "USER_EMB_SIZE = 32\n",
    "\n",
    "target_df = df[df.uid.isin(df.uid.drop_duplicates()[:USER_NUM])]\n",
    "training_set = target_df[target_df.d < SPLIT_D]\n",
    "testing_set = target_df[target_df.d >= SPLIT_D]\n",
    "\n",
    "parameters = Parameters(loc_size=40100, loc_emb_size=LOC_EMB_SIZE, tim_size=48, tim_emb_size=TIM_EMB_SIZE,\n",
    "                        user_size=USER_NUM, user_emb_size=USER_EMB_SIZE, hidden_size=HIDDEN_SIZE, attn_type='general',\n",
    "                        use_cuda=torch.cuda.is_available(), rnn_type='GRU', dropout_p=0.5)\n",
    "trainer = DeepmoveTrainer(parameters)\n",
    "trainer.train(training_set, epochs=EPOCHS, batch_size=16)"
   ]
  },
  {
   "cell_type": "code",
   "execution_count": 2,
   "id": "09d30061",
   "metadata": {},
   "outputs": [
    {
     "name": "stderr",
     "output_type": "stream",
     "text": [
      "2025-10-16 01:35:52 - INFO - Forecaster initialized\n",
      "2025-10-16 01:35:52 - INFO - Starting forecasting for 15 days\n",
      "2025-10-16 01:35:52 - INFO - Preprocessing data for forecasting...\n",
      "Processing users: 100%|██████████| 3/3 [00:03<00:00,  1.08s/it]\n",
      "2025-10-16 01:35:56 - INFO - Preprocessed 3 users for forecasting\n",
      "Forecasting users:   0%|          | 0/3 [00:00<?, ?it/s]2025-10-16 01:35:56 - INFO - Forecasting 720 timesteps for user 0\n",
      "2025-10-16 01:36:50 - INFO - Completed forecasting for user 0: 720 predictions\n",
      "Forecasting users:  33%|███▎      | 1/3 [00:54<01:49, 54.87s/it]2025-10-16 01:36:50 - INFO - Forecasting 720 timesteps for user 1\n",
      "2025-10-16 01:37:36 - INFO - Completed forecasting for user 1: 720 predictions\n",
      "Forecasting users:  67%|██████▋   | 2/3 [01:40<00:49, 49.28s/it]2025-10-16 01:37:36 - INFO - Forecasting 720 timesteps for user 2\n",
      "2025-10-16 01:38:18 - INFO - Completed forecasting for user 2: 720 predictions\n",
      "Forecasting users: 100%|██████████| 3/3 [02:22<00:00, 47.44s/it]\n",
      "2025-10-16 01:38:18 - INFO - Forecasting completed. Total predictions: 2160\n"
     ]
    }
   ],
   "source": [
    "\n",
    "forecaster = DeepmoveForecaster(trainer.model, parameters)\n",
    "predictions = forecaster.forecast(training_set, predicting_days=FUTURE_DAYS)"
   ]
  },
  {
   "cell_type": "code",
   "execution_count": null,
   "id": "69e8397a",
   "metadata": {},
   "outputs": [],
   "source": [
    "\n",
    "uid = 2\n",
    "pred = testing_set[['uid', 'd', 't']].merge(predictions, on=['uid', 'd', 't'], how='left').dropna()\n",
    "target_pred = pred[pred['uid'] == uid].reset_index(drop=True)\n",
    "target_test = testing_set[(testing_set['uid'] == uid) & (testing_set.d.isin(target_pred.d))].reset_index(drop=True)\n",
    "\n",
    "# Function to create the time label in the format d:HH:MM\n",
    "def get_time_label(row):\n",
    "    t = row['t']\n",
    "    hh = t // 2\n",
    "    mm = 30 if t % 2 == 1 else 0\n",
    "    return f\"{int(row['d'])}:{hh:02d}:{mm:02d}\"\n",
    "\n",
    "# Apply the function to create time labels (assuming same time points for pred and test)\n",
    "target_pred['time_label'] = target_pred.apply(get_time_label, axis=1)\n",
    "target_test['time_label'] = target_test.apply(get_time_label, axis=1)\n",
    "\n",
    "# Create separate plots for x and y vs. time index\n",
    "fig, (ax1, ax2) = plt.subplots(2, 1, figsize=(12, 8), sharex=True)\n",
    "\n",
    "# Plot for x (predicted and testing/actual)\n",
    "ax1.plot(range(len(target_pred)), target_pred['x'], marker='o', linestyle='-', color='blue', label='predicted x')\n",
    "ax1.plot(range(len(target_test)), target_test['x'], marker='x', linestyle='--', color='green', label='actual x')\n",
    "ax1.set_ylabel('x')\n",
    "ax1.set_title('Predicted vs Actual x over Time')\n",
    "ax1.grid(True)\n",
    "ax1.legend()\n",
    "\n",
    "# Plot for y (predicted and testing/actual)\n",
    "ax2.plot(range(len(target_pred)), target_pred['y'], marker='o', linestyle='-', color='red', label='predicted y')\n",
    "ax2.plot(range(len(target_test)), target_test['y'], marker='x', linestyle='--', color='orange', label='actual y')\n",
    "ax2.set_ylabel('y')\n",
    "ax2.set_title('Predicted vs Actual y over Time')\n",
    "ax2.grid(True)\n",
    "ax2.legend()\n",
    "\n",
    "# Set x-axis ticks and labels using pred's time labels (assuming alignment)\n",
    "plt.xticks(range(len(target_pred)), target_pred['time_label'], rotation=45, ha='right')\n",
    "plt.xlabel('Time (d:HH:MM)')\n",
    "\n",
    "plt.tight_layout()\n",
    "plt.show()"
   ]
  }
 ],
 "metadata": {
  "kernelspec": {
   "display_name": "base",
   "language": "python",
   "name": "python3"
  },
  "language_info": {
   "codemirror_mode": {
    "name": "ipython",
    "version": 3
   },
   "file_extension": ".py",
   "mimetype": "text/x-python",
   "name": "python",
   "nbconvert_exporter": "python",
   "pygments_lexer": "ipython3",
   "version": "3.11.5"
  }
 },
 "nbformat": 4,
 "nbformat_minor": 5
}
